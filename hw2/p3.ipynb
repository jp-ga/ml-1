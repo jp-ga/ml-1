{
 "cells": [
  {
   "cell_type": "code",
   "execution_count": 1,
   "metadata": {},
   "outputs": [],
   "source": [
    "import os\n",
    "import numpy as np\n",
    "import matplotlib.pyplot as plt\n",
    "import pandas as pd"
   ]
  },
  {
   "cell_type": "markdown",
   "metadata": {},
   "source": [
    "3. (a) Use scikit learn to fit a gradient boosting model to dset0 (You should model the first column in `dset0.csv` given the other columns). Fit models with 1, 10, 100, 300, and 1000 trees. What do you observe about the generalization behaviour of these models?"
   ]
  },
  {
   "cell_type": "code",
   "execution_count": 2,
   "metadata": {},
   "outputs": [
    {
     "data": {
      "text/html": [
       "<div>\n",
       "<style scoped>\n",
       "    .dataframe tbody tr th:only-of-type {\n",
       "        vertical-align: middle;\n",
       "    }\n",
       "\n",
       "    .dataframe tbody tr th {\n",
       "        vertical-align: top;\n",
       "    }\n",
       "\n",
       "    .dataframe thead th {\n",
       "        text-align: right;\n",
       "    }\n",
       "</style>\n",
       "<table border=\"1\" class=\"dataframe\">\n",
       "  <thead>\n",
       "    <tr style=\"text-align: right;\">\n",
       "      <th></th>\n",
       "      <th>0</th>\n",
       "      <th>1</th>\n",
       "      <th>2</th>\n",
       "      <th>3</th>\n",
       "      <th>4</th>\n",
       "      <th>5</th>\n",
       "    </tr>\n",
       "  </thead>\n",
       "  <tbody>\n",
       "    <tr>\n",
       "      <th>0</th>\n",
       "      <td>1.0</td>\n",
       "      <td>1.332</td>\n",
       "      <td>4.439</td>\n",
       "      <td>-0.487</td>\n",
       "      <td>-0.873</td>\n",
       "      <td>7.0</td>\n",
       "    </tr>\n",
       "    <tr>\n",
       "      <th>1</th>\n",
       "      <td>1.0</td>\n",
       "      <td>0.715</td>\n",
       "      <td>4.382</td>\n",
       "      <td>-2.142</td>\n",
       "      <td>3.567</td>\n",
       "      <td>-10.0</td>\n",
       "    </tr>\n",
       "    <tr>\n",
       "      <th>2</th>\n",
       "      <td>0.0</td>\n",
       "      <td>-1.545</td>\n",
       "      <td>3.921</td>\n",
       "      <td>-2.139</td>\n",
       "      <td>1.540</td>\n",
       "      <td>-2.0</td>\n",
       "    </tr>\n",
       "    <tr>\n",
       "      <th>3</th>\n",
       "      <td>0.0</td>\n",
       "      <td>-0.008</td>\n",
       "      <td>2.427</td>\n",
       "      <td>-0.824</td>\n",
       "      <td>0.552</td>\n",
       "      <td>7.0</td>\n",
       "    </tr>\n",
       "    <tr>\n",
       "      <th>4</th>\n",
       "      <td>1.0</td>\n",
       "      <td>0.621</td>\n",
       "      <td>4.275</td>\n",
       "      <td>-0.816</td>\n",
       "      <td>-0.620</td>\n",
       "      <td>-4.0</td>\n",
       "    </tr>\n",
       "    <tr>\n",
       "      <th>...</th>\n",
       "      <td>...</td>\n",
       "      <td>...</td>\n",
       "      <td>...</td>\n",
       "      <td>...</td>\n",
       "      <td>...</td>\n",
       "      <td>...</td>\n",
       "    </tr>\n",
       "    <tr>\n",
       "      <th>495</th>\n",
       "      <td>0.0</td>\n",
       "      <td>0.488</td>\n",
       "      <td>1.986</td>\n",
       "      <td>-1.197</td>\n",
       "      <td>-3.191</td>\n",
       "      <td>0.0</td>\n",
       "    </tr>\n",
       "    <tr>\n",
       "      <th>496</th>\n",
       "      <td>0.0</td>\n",
       "      <td>0.056</td>\n",
       "      <td>2.668</td>\n",
       "      <td>-2.302</td>\n",
       "      <td>-4.224</td>\n",
       "      <td>0.0</td>\n",
       "    </tr>\n",
       "    <tr>\n",
       "      <th>497</th>\n",
       "      <td>0.0</td>\n",
       "      <td>0.546</td>\n",
       "      <td>4.441</td>\n",
       "      <td>-2.558</td>\n",
       "      <td>-1.637</td>\n",
       "      <td>8.0</td>\n",
       "    </tr>\n",
       "    <tr>\n",
       "      <th>498</th>\n",
       "      <td>1.0</td>\n",
       "      <td>-0.683</td>\n",
       "      <td>2.610</td>\n",
       "      <td>-3.230</td>\n",
       "      <td>-0.708</td>\n",
       "      <td>-1.0</td>\n",
       "    </tr>\n",
       "    <tr>\n",
       "      <th>499</th>\n",
       "      <td>0.0</td>\n",
       "      <td>-0.659</td>\n",
       "      <td>3.642</td>\n",
       "      <td>-2.365</td>\n",
       "      <td>2.877</td>\n",
       "      <td>5.0</td>\n",
       "    </tr>\n",
       "  </tbody>\n",
       "</table>\n",
       "<p>500 rows × 6 columns</p>\n",
       "</div>"
      ],
      "text/plain": [
       "       0      1      2      3      4     5\n",
       "0    1.0  1.332  4.439 -0.487 -0.873   7.0\n",
       "1    1.0  0.715  4.382 -2.142  3.567 -10.0\n",
       "2    0.0 -1.545  3.921 -2.139  1.540  -2.0\n",
       "3    0.0 -0.008  2.427 -0.824  0.552   7.0\n",
       "4    1.0  0.621  4.275 -0.816 -0.620  -4.0\n",
       "..   ...    ...    ...    ...    ...   ...\n",
       "495  0.0  0.488  1.986 -1.197 -3.191   0.0\n",
       "496  0.0  0.056  2.668 -2.302 -4.224   0.0\n",
       "497  0.0  0.546  4.441 -2.558 -1.637   8.0\n",
       "498  1.0 -0.683  2.610 -3.230 -0.708  -1.0\n",
       "499  0.0 -0.659  3.642 -2.365  2.877   5.0\n",
       "\n",
       "[500 rows x 6 columns]"
      ]
     },
     "execution_count": 2,
     "metadata": {},
     "output_type": "execute_result"
    }
   ],
   "source": [
    "# load and see data \n",
    "fname0 = os.path.join('data', 'dset0.csv')\n",
    "dset0 = pd.read_csv(fname0, sep=',', header=None)\n",
    "dset0"
   ]
  },
  {
   "cell_type": "code",
   "execution_count": 3,
   "metadata": {},
   "outputs": [
    {
     "name": "stdout",
     "output_type": "stream",
     "text": [
      "(500,)\n",
      "(500, 5)\n"
     ]
    }
   ],
   "source": [
    "y0 = dset0.iloc[:, 0]\n",
    "X0 = dset0.iloc[:, 1:]\n",
    "print(y0.shape)\n",
    "print(X0.shape)"
   ]
  },
  {
   "cell_type": "code",
   "execution_count": 121,
   "metadata": {},
   "outputs": [
    {
     "name": "stdout",
     "output_type": "stream",
     "text": [
      "x_train: (400, 5)\t y_train: (400,)\t frac: 80.00%\n",
      "x_test: (100, 5)\t y_test: (100,)\t\t frac: 20.00%\n"
     ]
    }
   ],
   "source": [
    "from sklearn.model_selection import train_test_split\n",
    "X0_train, X0_test, y0_train, y0_test = train_test_split(\n",
    "    X0, y0, test_size=0.20)\n",
    "print(f'x_train: {X0_train.shape}\\t y_train: {y0_train.shape}\\t frac: {y0_train.shape[0]/y0.shape[0]*100:.2f}%')\n",
    "print(f'x_test: {X0_test.shape}\\t y_test: {y0_test.shape}\\t\\t frac: {y0_test.shape[0]/y0.shape[0]*100:.2f}%')"
   ]
  },
  {
   "cell_type": "code",
   "execution_count": 122,
   "metadata": {},
   "outputs": [],
   "source": [
    "from sklearn.ensemble import GradientBoostingClassifier\n",
    "n_trees = [1, 10, 100, 300, 1000]\n",
    "train_accuracy_0 = np.zeros(len(n_trees))\n",
    "test_accuracy_0 = np.zeros(len(n_trees))\n",
    "\n",
    "for i, n_t in enumerate(n_trees):\n",
    "    model = GradientBoostingClassifier(\n",
    "        loss='exponential',\n",
    "        n_estimators = n_t,\n",
    "        random_state = 0\n",
    "    ).fit(X0_train, y0_train)\n",
    "    train_accuracy_0[i] = model.score(X0_train, y0_train)\n",
    "    test_accuracy_0[i] = model.score(X0_test, y0_test)"
   ]
  },
  {
   "cell_type": "code",
   "execution_count": 123,
   "metadata": {},
   "outputs": [
    {
     "data": {
      "image/png": "[encoded data removed]",
      "text/plain": [
       "<Figure size 640x480 with 1 Axes>"
      ]
     },
     "metadata": {},
     "output_type": "display_data"
    }
   ],
   "source": [
    "plt.plot(n_trees, (1-train_accuracy_0)*100)\n",
    "plt.plot(n_trees, (1-test_accuracy_0)*100)\n",
    "plt.xscale('log')"
   ]
  },
  {
   "cell_type": "markdown",
   "metadata": {},
   "source": [
    "3. (b) Use scikit learn to fit a gradient boosting model to dset1 (You should model the first column in `dset1.csv` given the other columns). Fit models with 1, 10, 100, 300, and 1000 trees. What do you observe about the generalization behaviour of these models?"
   ]
  },
  {
   "cell_type": "code",
   "execution_count": 31,
   "metadata": {},
   "outputs": [
    {
     "data": {
      "text/html": [
       "<div>\n",
       "<style scoped>\n",
       "    .dataframe tbody tr th:only-of-type {\n",
       "        vertical-align: middle;\n",
       "    }\n",
       "\n",
       "    .dataframe tbody tr th {\n",
       "        vertical-align: top;\n",
       "    }\n",
       "\n",
       "    .dataframe thead th {\n",
       "        text-align: right;\n",
       "    }\n",
       "</style>\n",
       "<table border=\"1\" class=\"dataframe\">\n",
       "  <thead>\n",
       "    <tr style=\"text-align: right;\">\n",
       "      <th></th>\n",
       "      <th>0</th>\n",
       "      <th>1</th>\n",
       "      <th>2</th>\n",
       "      <th>3</th>\n",
       "      <th>4</th>\n",
       "      <th>5</th>\n",
       "    </tr>\n",
       "  </thead>\n",
       "  <tbody>\n",
       "    <tr>\n",
       "      <th>0</th>\n",
       "      <td>0.0</td>\n",
       "      <td>1.558</td>\n",
       "      <td>4.151</td>\n",
       "      <td>-2.741</td>\n",
       "      <td>-0.368</td>\n",
       "      <td>-4.0</td>\n",
       "    </tr>\n",
       "    <tr>\n",
       "      <th>1</th>\n",
       "      <td>1.0</td>\n",
       "      <td>-2.179</td>\n",
       "      <td>5.395</td>\n",
       "      <td>-2.018</td>\n",
       "      <td>-4.662</td>\n",
       "      <td>8.0</td>\n",
       "    </tr>\n",
       "    <tr>\n",
       "      <th>2</th>\n",
       "      <td>0.0</td>\n",
       "      <td>0.841</td>\n",
       "      <td>3.552</td>\n",
       "      <td>-1.664</td>\n",
       "      <td>3.957</td>\n",
       "      <td>-9.0</td>\n",
       "    </tr>\n",
       "    <tr>\n",
       "      <th>3</th>\n",
       "      <td>0.0</td>\n",
       "      <td>0.438</td>\n",
       "      <td>2.388</td>\n",
       "      <td>-0.383</td>\n",
       "      <td>-2.309</td>\n",
       "      <td>3.0</td>\n",
       "    </tr>\n",
       "    <tr>\n",
       "      <th>4</th>\n",
       "      <td>1.0</td>\n",
       "      <td>-0.457</td>\n",
       "      <td>2.534</td>\n",
       "      <td>-1.893</td>\n",
       "      <td>-0.634</td>\n",
       "      <td>4.0</td>\n",
       "    </tr>\n",
       "    <tr>\n",
       "      <th>...</th>\n",
       "      <td>...</td>\n",
       "      <td>...</td>\n",
       "      <td>...</td>\n",
       "      <td>...</td>\n",
       "      <td>...</td>\n",
       "      <td>...</td>\n",
       "    </tr>\n",
       "    <tr>\n",
       "      <th>495</th>\n",
       "      <td>1.0</td>\n",
       "      <td>-0.439</td>\n",
       "      <td>2.472</td>\n",
       "      <td>-1.614</td>\n",
       "      <td>-3.059</td>\n",
       "      <td>-7.0</td>\n",
       "    </tr>\n",
       "    <tr>\n",
       "      <th>496</th>\n",
       "      <td>0.0</td>\n",
       "      <td>0.073</td>\n",
       "      <td>2.527</td>\n",
       "      <td>-3.146</td>\n",
       "      <td>-1.365</td>\n",
       "      <td>4.0</td>\n",
       "    </tr>\n",
       "    <tr>\n",
       "      <th>497</th>\n",
       "      <td>0.0</td>\n",
       "      <td>0.253</td>\n",
       "      <td>3.967</td>\n",
       "      <td>-3.624</td>\n",
       "      <td>-0.831</td>\n",
       "      <td>1.0</td>\n",
       "    </tr>\n",
       "    <tr>\n",
       "      <th>498</th>\n",
       "      <td>1.0</td>\n",
       "      <td>0.192</td>\n",
       "      <td>2.336</td>\n",
       "      <td>-1.860</td>\n",
       "      <td>-4.202</td>\n",
       "      <td>-3.0</td>\n",
       "    </tr>\n",
       "    <tr>\n",
       "      <th>499</th>\n",
       "      <td>1.0</td>\n",
       "      <td>-2.829</td>\n",
       "      <td>3.153</td>\n",
       "      <td>-1.093</td>\n",
       "      <td>-2.153</td>\n",
       "      <td>-5.0</td>\n",
       "    </tr>\n",
       "  </tbody>\n",
       "</table>\n",
       "<p>500 rows × 6 columns</p>\n",
       "</div>"
      ],
      "text/plain": [
       "       0      1      2      3      4    5\n",
       "0    0.0  1.558  4.151 -2.741 -0.368 -4.0\n",
       "1    1.0 -2.179  5.395 -2.018 -4.662  8.0\n",
       "2    0.0  0.841  3.552 -1.664  3.957 -9.0\n",
       "3    0.0  0.438  2.388 -0.383 -2.309  3.0\n",
       "4    1.0 -0.457  2.534 -1.893 -0.634  4.0\n",
       "..   ...    ...    ...    ...    ...  ...\n",
       "495  1.0 -0.439  2.472 -1.614 -3.059 -7.0\n",
       "496  0.0  0.073  2.527 -3.146 -1.365  4.0\n",
       "497  0.0  0.253  3.967 -3.624 -0.831  1.0\n",
       "498  1.0  0.192  2.336 -1.860 -4.202 -3.0\n",
       "499  1.0 -2.829  3.153 -1.093 -2.153 -5.0\n",
       "\n",
       "[500 rows x 6 columns]"
      ]
     },
     "execution_count": 31,
     "metadata": {},
     "output_type": "execute_result"
    }
   ],
   "source": [
    "# load and see data \n",
    "fname1 = os.path.join('data', 'dset1.csv')\n",
    "dset1 = pd.read_csv(fname1, sep=',', header=None)\n",
    "dset1"
   ]
  },
  {
   "cell_type": "code",
   "execution_count": 66,
   "metadata": {},
   "outputs": [
    {
     "name": "stdout",
     "output_type": "stream",
     "text": [
      "(500,)\n",
      "(500, 5)\n"
     ]
    }
   ],
   "source": [
    "y1 = dset1.iloc[:, 0]\n",
    "X1 = dset1.iloc[:, 1:]\n",
    "print(y1.shape)\n",
    "print(X1.shape)"
   ]
  },
  {
   "cell_type": "code",
   "execution_count": 82,
   "metadata": {},
   "outputs": [
    {
     "name": "stdout",
     "output_type": "stream",
     "text": [
      "x_train: (400, 5)\t y_train: (400,)\t frac: 80.00%\n",
      "x_test: (100, 5)\t y_test: (100,)\t\t frac: 20.00%\n"
     ]
    }
   ],
   "source": [
    "X1_train, X1_test, y1_train, y1_test = train_test_split(\n",
    "    X1, y1, test_size=0.20)\n",
    "print(f'x_train: {X1_train.shape}\\t y_train: {y1_train.shape}\\t frac: {y1_train.shape[0]/y1.shape[0]*100:.2f}%')\n",
    "print(f'x_test: {X1_test.shape}\\t y_test: {y1_test.shape}\\t\\t frac: {y1_test.shape[0]/y1.shape[0]*100:.2f}%')"
   ]
  },
  {
   "cell_type": "code",
   "execution_count": 83,
   "metadata": {},
   "outputs": [],
   "source": [
    "train_accuracy_1 = np.zeros(len(n_trees))\n",
    "test_accuracy_1 = np.zeros(len(n_trees))\n",
    "\n",
    "for i, n_t in enumerate(n_trees):\n",
    "    model = GradientBoostingClassifier(\n",
    "        loss='exponential',\n",
    "        n_estimators = n_t,\n",
    "        random_state = 0\n",
    "    ).fit(X1_train, y1_train)\n",
    "    train_accuracy_1[i] = model.score(X1_train, y1_train)\n",
    "    test_accuracy_1[i] = model.score(X1_test, y1_test)"
   ]
  },
  {
   "cell_type": "code",
   "execution_count": 84,
   "metadata": {},
   "outputs": [
    {
     "data": {
      "image/png": "[encoded data removed]",
      "text/plain": [
       "<Figure size 640x480 with 1 Axes>"
      ]
     },
     "metadata": {},
     "output_type": "display_data"
    }
   ],
   "source": [
    "plt.plot(n_trees, (1-train_accuracy_1)*100)\n",
    "plt.plot(n_trees, (1-test_accuracy_1)*100)\n",
    "plt.xscale('log')"
   ]
  },
  {
   "cell_type": "code",
   "execution_count": null,
   "metadata": {},
   "outputs": [],
   "source": []
  },
  {
   "cell_type": "code",
   "execution_count": null,
   "metadata": {},
   "outputs": [],
   "source": []
  }
 ],
 "metadata": {
  "kernelspec": {
   "display_name": "ml-1",
   "language": "python",
   "name": "python3"
  },
  "language_info": {
   "codemirror_mode": {
    "name": "ipython",
    "version": 3
   },
   "file_extension": ".py",
   "mimetype": "text/x-python",
   "name": "python",
   "nbconvert_exporter": "python",
   "pygments_lexer": "ipython3",
   "version": "3.10.13"
  }
 },
 "nbformat": 4,
 "nbformat_minor": 2
}
