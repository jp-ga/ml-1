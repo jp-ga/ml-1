{
 "cells": [
  {
   "cell_type": "markdown",
   "metadata": {},
   "source": [
    "## 1. (c) We have provided a dataset from taxi trips taken in NYC in taxi trips.parquet. It contains 8 total columns, 7 features and 1 target (trip duration). De ne a multi-layer perceptron in PyTorch or Jax that outputs a conditional mean and variance, and  t this on the taxi trip dataset. Make sure to follow best practices: de ne a baseline (or multiple) baseline models that you think your model should beat, split your dataset into training/validation/test sets, etc."
   ]
  },
  {
   "cell_type": "code",
   "execution_count": 1,
   "metadata": {},
   "outputs": [],
   "source": [
    "import pyarrow.parquet as pq\n",
    "import numpy as np\n",
    "import pandas as pd\n",
    "import torch"
   ]
  },
  {
   "cell_type": "code",
   "execution_count": 2,
   "metadata": {},
   "outputs": [
    {
     "data": {
      "text/html": [
       "<div>\n",
       "<style scoped>\n",
       "    .dataframe tbody tr th:only-of-type {\n",
       "        vertical-align: middle;\n",
       "    }\n",
       "\n",
       "    .dataframe tbody tr th {\n",
       "        vertical-align: top;\n",
       "    }\n",
       "\n",
       "    .dataframe thead th {\n",
       "        text-align: right;\n",
       "    }\n",
       "</style>\n",
       "<table border=\"1\" class=\"dataframe\">\n",
       "  <thead>\n",
       "    <tr style=\"text-align: right;\">\n",
       "      <th></th>\n",
       "      <th>pickup_longitude</th>\n",
       "      <th>pickup_latitude</th>\n",
       "      <th>dropoff_longitude</th>\n",
       "      <th>dropoff_latitude</th>\n",
       "      <th>trip_duration</th>\n",
       "      <th>min_of_day</th>\n",
       "      <th>day_of_week</th>\n",
       "      <th>day_of_year</th>\n",
       "    </tr>\n",
       "  </thead>\n",
       "  <tbody>\n",
       "    <tr>\n",
       "      <th>187173</th>\n",
       "      <td>0.270744</td>\n",
       "      <td>1.425051</td>\n",
       "      <td>0.466831</td>\n",
       "      <td>0.776192</td>\n",
       "      <td>-0.007192</td>\n",
       "      <td>-0.942057</td>\n",
       "      <td>-1.047619</td>\n",
       "      <td>1.180855</td>\n",
       "    </tr>\n",
       "    <tr>\n",
       "      <th>179655</th>\n",
       "      <td>0.085681</td>\n",
       "      <td>0.306079</td>\n",
       "      <td>-0.226274</td>\n",
       "      <td>0.124111</td>\n",
       "      <td>0.370803</td>\n",
       "      <td>0.778703</td>\n",
       "      <td>-1.047619</td>\n",
       "      <td>-0.311290</td>\n",
       "    </tr>\n",
       "    <tr>\n",
       "      <th>120048</th>\n",
       "      <td>-0.555533</td>\n",
       "      <td>-0.934806</td>\n",
       "      <td>-0.022489</td>\n",
       "      <td>-0.548561</td>\n",
       "      <td>-0.434735</td>\n",
       "      <td>-1.183016</td>\n",
       "      <td>-1.047619</td>\n",
       "      <td>1.316504</td>\n",
       "    </tr>\n",
       "    <tr>\n",
       "      <th>62587</th>\n",
       "      <td>0.069718</td>\n",
       "      <td>0.035804</td>\n",
       "      <td>0.258900</td>\n",
       "      <td>0.317284</td>\n",
       "      <td>-0.811614</td>\n",
       "      <td>-0.908008</td>\n",
       "      <td>0.481657</td>\n",
       "      <td>0.018144</td>\n",
       "    </tr>\n",
       "    <tr>\n",
       "      <th>212063</th>\n",
       "      <td>-0.234482</td>\n",
       "      <td>0.074616</td>\n",
       "      <td>0.115836</td>\n",
       "      <td>0.258310</td>\n",
       "      <td>0.480548</td>\n",
       "      <td>1.066806</td>\n",
       "      <td>-0.537860</td>\n",
       "      <td>0.521985</td>\n",
       "    </tr>\n",
       "    <tr>\n",
       "      <th>...</th>\n",
       "      <td>...</td>\n",
       "      <td>...</td>\n",
       "      <td>...</td>\n",
       "      <td>...</td>\n",
       "      <td>...</td>\n",
       "      <td>...</td>\n",
       "      <td>...</td>\n",
       "      <td>...</td>\n",
       "    </tr>\n",
       "    <tr>\n",
       "      <th>519591</th>\n",
       "      <td>-0.853230</td>\n",
       "      <td>-0.623528</td>\n",
       "      <td>-1.257638</td>\n",
       "      <td>-0.858561</td>\n",
       "      <td>-0.496274</td>\n",
       "      <td>1.548723</td>\n",
       "      <td>0.991416</td>\n",
       "      <td>1.665317</td>\n",
       "    </tr>\n",
       "    <tr>\n",
       "      <th>342999</th>\n",
       "      <td>0.623131</td>\n",
       "      <td>0.373217</td>\n",
       "      <td>-0.558609</td>\n",
       "      <td>-0.119350</td>\n",
       "      <td>0.789244</td>\n",
       "      <td>-1.714696</td>\n",
       "      <td>0.481657</td>\n",
       "      <td>-1.745299</td>\n",
       "    </tr>\n",
       "    <tr>\n",
       "      <th>157477</th>\n",
       "      <td>-0.226796</td>\n",
       "      <td>-0.595202</td>\n",
       "      <td>-0.527212</td>\n",
       "      <td>-1.051594</td>\n",
       "      <td>0.081328</td>\n",
       "      <td>-1.976608</td>\n",
       "      <td>1.501174</td>\n",
       "      <td>0.056901</td>\n",
       "    </tr>\n",
       "    <tr>\n",
       "      <th>432901</th>\n",
       "      <td>-0.226796</td>\n",
       "      <td>0.056775</td>\n",
       "      <td>1.005321</td>\n",
       "      <td>-1.571717</td>\n",
       "      <td>1.210403</td>\n",
       "      <td>1.111331</td>\n",
       "      <td>-0.028101</td>\n",
       "      <td>0.812663</td>\n",
       "    </tr>\n",
       "    <tr>\n",
       "      <th>190792</th>\n",
       "      <td>0.249163</td>\n",
       "      <td>0.068043</td>\n",
       "      <td>0.598640</td>\n",
       "      <td>0.689481</td>\n",
       "      <td>0.140342</td>\n",
       "      <td>0.037493</td>\n",
       "      <td>0.991416</td>\n",
       "      <td>0.851420</td>\n",
       "    </tr>\n",
       "  </tbody>\n",
       "</table>\n",
       "<p>523554 rows × 8 columns</p>\n",
       "</div>"
      ],
      "text/plain": [
       "        pickup_longitude  pickup_latitude  dropoff_longitude  \\\n",
       "187173          0.270744         1.425051           0.466831   \n",
       "179655          0.085681         0.306079          -0.226274   \n",
       "120048         -0.555533        -0.934806          -0.022489   \n",
       "62587           0.069718         0.035804           0.258900   \n",
       "212063         -0.234482         0.074616           0.115836   \n",
       "...                  ...              ...                ...   \n",
       "519591         -0.853230        -0.623528          -1.257638   \n",
       "342999          0.623131         0.373217          -0.558609   \n",
       "157477         -0.226796        -0.595202          -0.527212   \n",
       "432901         -0.226796         0.056775           1.005321   \n",
       "190792          0.249163         0.068043           0.598640   \n",
       "\n",
       "        dropoff_latitude  trip_duration  min_of_day  day_of_week  day_of_year  \n",
       "187173          0.776192      -0.007192   -0.942057    -1.047619     1.180855  \n",
       "179655          0.124111       0.370803    0.778703    -1.047619    -0.311290  \n",
       "120048         -0.548561      -0.434735   -1.183016    -1.047619     1.316504  \n",
       "62587           0.317284      -0.811614   -0.908008     0.481657     0.018144  \n",
       "212063          0.258310       0.480548    1.066806    -0.537860     0.521985  \n",
       "...                  ...            ...         ...          ...          ...  \n",
       "519591         -0.858561      -0.496274    1.548723     0.991416     1.665317  \n",
       "342999         -0.119350       0.789244   -1.714696     0.481657    -1.745299  \n",
       "157477         -1.051594       0.081328   -1.976608     1.501174     0.056901  \n",
       "432901         -1.571717       1.210403    1.111331    -0.028101     0.812663  \n",
       "190792          0.689481       0.140342    0.037493     0.991416     0.851420  \n",
       "\n",
       "[523554 rows x 8 columns]"
      ]
     },
     "execution_count": 2,
     "metadata": {},
     "output_type": "execute_result"
    }
   ],
   "source": [
    "# read parquet file as pandas dataframe\n",
    "df = pq.read_table('taxi_trips.parquet').to_pandas()\n",
    "df"
   ]
  },
  {
   "cell_type": "code",
   "execution_count": 3,
   "metadata": {},
   "outputs": [
    {
     "data": {
      "text/plain": [
       "torch.Size([523554])"
      ]
     },
     "execution_count": 3,
     "metadata": {},
     "output_type": "execute_result"
    }
   ],
   "source": [
    "# define target\n",
    "y = torch.tensor(df['trip_duration'].to_numpy())\n",
    "y.shape"
   ]
  },
  {
   "cell_type": "code",
   "execution_count": 4,
   "metadata": {},
   "outputs": [
    {
     "data": {
      "text/plain": [
       "torch.Size([523554, 7])"
      ]
     },
     "execution_count": 4,
     "metadata": {},
     "output_type": "execute_result"
    }
   ],
   "source": [
    "# define features\n",
    "X = torch.tensor(df.drop(columns=['trip_duration']).to_numpy())\n",
    "X.shape"
   ]
  },
  {
   "cell_type": "code",
   "execution_count": 5,
   "metadata": {},
   "outputs": [
    {
     "name": "stdout",
     "output_type": "stream",
     "text": [
      "shapes:\n",
      "- - - -\n",
      "x_train: torch.Size([366487, 7])\t y_train: torch.Size([366487])\t frac: 70.00%\n",
      "x_test: torch.Size([104711, 7])\t\t y_test: torch.Size([104711])\t frac: 20.00%\n",
      "x_val: torch.Size([52356, 7])\t\t y_val: torch.Size([52356])\t frac: 10.00%\n"
     ]
    }
   ],
   "source": [
    "# split in training, test and validations\n",
    "from sklearn.model_selection import train_test_split\n",
    "\n",
    "X_train, X_test, y_train, y_test = train_test_split(\n",
    "    X, y, test_size=0.20, random_state=0)\n",
    "X_train, X_val, y_train, y_val = train_test_split(\n",
    "    X_train, y_train, test_size=10.0/80.0, random_state=1)\n",
    "\n",
    "print('shapes:\\n- - - -')\n",
    "print(f'x_train: {X_train.shape}\\t y_train: {y_train.shape}\\t frac: {y_train.shape[0]/y.shape[0]*100:.2f}%')\n",
    "print(f'x_test: {X_test.shape}\\t\\t y_test: {y_test.shape}\\t frac: {y_test.shape[0]/y.shape[0]*100:.2f}%')\n",
    "print(f'x_val: {X_val.shape}\\t\\t y_val: {y_val.shape}\\t frac: {y_val.shape[0]/y.shape[0]*100:.2f}%')"
   ]
  },
  {
   "cell_type": "code",
   "execution_count": 6,
   "metadata": {},
   "outputs": [],
   "source": [
    "# Baseline model: simple linear regression\n",
    "from sklearn.linear_model import LinearRegression\n",
    "# create linear model to predict y from X\n",
    "model_baseline = LinearRegression().fit(X_train, y_train)\n",
    "y_pred_baseline = torch.tensor(model_baseline.predict(X_test))"
   ]
  },
  {
   "cell_type": "code",
   "execution_count": 7,
   "metadata": {},
   "outputs": [
    {
     "data": {
      "text/plain": [
       "tensor(0.0189)"
      ]
     },
     "execution_count": 7,
     "metadata": {},
     "output_type": "execute_result"
    }
   ],
   "source": [
    "# Calculate r-squared score for baseline model\n",
    "from torcheval.metrics.functional import r2_score\n",
    "r2_score(y_pred_baseline, y_test)"
   ]
  },
  {
   "cell_type": "code",
   "execution_count": 8,
   "metadata": {},
   "outputs": [],
   "source": [
    "# loss fn and NN model\n",
    "import torch.nn as nn\n",
    "\n",
    "class MyLoss(nn.Module):\n",
    "    def __init__(self):\n",
    "        super().__init__()\n",
    "\n",
    "    def forward(self, g_vec, y_true):\n",
    "        f_mu = g_vec[:,0]\n",
    "        f_sigma = torch.log(1+torch.exp(g_vec[:,1]))\n",
    "        L = torch.log(f_sigma) + 1/2*(y_true-f_mu)**2/f_sigma**2\n",
    "        return L.mean()\n",
    "\n",
    "class NNModel(nn.Module):\n",
    "    def __init__(self):\n",
    "        super().__init__()\n",
    "        self.flatten = nn.Flatten()\n",
    "        self.linear_relu_stack = nn.Sequential(\n",
    "            nn.Linear(7, 100),\n",
    "            nn.ReLU(),\n",
    "            nn.Linear(100, 100),\n",
    "            nn.ReLU(),\n",
    "            nn.Linear(100, 2),\n",
    "        )\n",
    "\n",
    "    def forward(self, x):\n",
    "        g_vec = self.linear_relu_stack(x)\n",
    "        return g_vec"
   ]
  },
  {
   "cell_type": "code",
   "execution_count": 9,
   "metadata": {},
   "outputs": [],
   "source": [
    "def train_model():\n",
    "    # define model\n",
    "    model = NNModel()\n",
    "    # define loss function\n",
    "    loss_fn = MyLoss()\n",
    "    # define optimizer\n",
    "    optimizer = torch.optim.Adam(model.parameters(), lr=1e-3)\n",
    "    # train\n",
    "    for t in range(1000):\n",
    "        # Forward pass: compute predicted y by passing x to the model.\n",
    "        g_vec = model(X_train)\n",
    "\n",
    "        # Compute and print loss.\n",
    "        loss = loss_fn(g_vec, y_train)\n",
    "        if t % 100 == 99:\n",
    "            print(t, loss.item())\n",
    "\n",
    "        # Before the backward pass, use the optimizer object to zero all of the\n",
    "        # gradients for the variables it will update (which are the learnable\n",
    "        # weights of the model)\n",
    "        optimizer.zero_grad()\n",
    "\n",
    "        # Backward pass: compute gradient of the loss with respect to model parameters\n",
    "        loss.backward()\n",
    "\n",
    "        # Calling the step function on an Optimizer makes an update to its parameters\n",
    "        optimizer.step()\n",
    "\n",
    "    return model"
   ]
  },
  {
   "cell_type": "code",
   "execution_count": 10,
   "metadata": {},
   "outputs": [
    {
     "name": "stdout",
     "output_type": "stream",
     "text": [
      "99 0.06182841584086418\n",
      "199 -0.25600045919418335\n",
      "299 -0.3149549663066864\n",
      "399 -0.3442245125770569\n",
      "499 -0.3615590035915375\n",
      "599 -0.3732012212276459\n",
      "699 -0.3820852041244507\n",
      "799 -0.38364002108573914\n",
      "899 -0.394769549369812\n",
      "999 -0.4011291563510895\n"
     ]
    }
   ],
   "source": [
    "trained_model = train_model()"
   ]
  },
  {
   "cell_type": "code",
   "execution_count": 11,
   "metadata": {},
   "outputs": [
    {
     "data": {
      "text/plain": [
       "tensor(0.7508)"
      ]
     },
     "execution_count": 11,
     "metadata": {},
     "output_type": "execute_result"
    }
   ],
   "source": [
    "# Calculate the predicted values using the trained model\n",
    "g_pred = trained_model(X_test)\n",
    "y_pred = g_pred[:,0]\n",
    "sigma_pred = torch.log(1+torch.exp(g_pred[:,1]))\n",
    "\n",
    "# Calculate the R-squared score\n",
    "r2_score(y_pred, y_test)"
   ]
  },
  {
   "cell_type": "markdown",
   "metadata": {},
   "source": [
    "Since the NN had good R2 value from the beginning (0.7508) in comparison to the baseline linear fit (0.0534) on the test dataset, I won't be optimizing hyperparameters. The model performance is good enough for the purposes of this problem. "
   ]
  },
  {
   "cell_type": "markdown",
   "metadata": {},
   "source": [
    "## 1. (d) How would we use the model we've just got to predict the probability that a trip will take less than 45 minutes? The normal distribution assumption is fine."
   ]
  },
  {
   "cell_type": "markdown",
   "metadata": {},
   "source": [
    "First, we need to transform 45 minutes to the scaling the data used (I won't follow the suggestion on Canvas since scaling the model output to minutes will be easy for the mean but difficult for the variance since it involves a non-linear transformation. It is much easier to transform 45 minutes to the standarized units). We can then use the normal distribution CDF with mean $f_{\\mu}(x)$ and std dev $f_{\\sigma}(x)$ predicted by our model to get $P(y<45 min | X) $"
   ]
  },
  {
   "cell_type": "markdown",
   "metadata": {},
   "source": [
    "## 1. (e) Estimate these probabilities on your held-out test set and report your accuracy."
   ]
  },
  {
   "cell_type": "code",
   "execution_count": 24,
   "metadata": {},
   "outputs": [
    {
     "data": {
      "text/plain": [
       "2.2242358917428096"
      ]
     },
     "execution_count": 24,
     "metadata": {},
     "output_type": "execute_result"
    }
   ],
   "source": [
    "t_45_minutes_scaled = (np.log(60.0*45.0) - 6.175) / 0.776\n",
    "t_45_minutes_scaled"
   ]
  },
  {
   "cell_type": "code",
   "execution_count": 34,
   "metadata": {},
   "outputs": [
    {
     "data": {
      "text/plain": [
       "array([1.        , 0.99999996, 1.        , ..., 1.        , 0.99999609,\n",
       "       1.        ])"
      ]
     },
     "execution_count": 34,
     "metadata": {},
     "output_type": "execute_result"
    }
   ],
   "source": [
    "from scipy.stats import norm\n",
    "probs_t_less_than_45_minutes = norm.cdf(t_45_minutes_scaled, loc=y_pred.detach().numpy(), scale=sigma_pred.detach().numpy())\n",
    "probs_t_less_than_45_minutes"
   ]
  },
  {
   "cell_type": "code",
   "execution_count": 42,
   "metadata": {},
   "outputs": [
    {
     "data": {
      "image/png": "[encoded data removed]",
      "text/plain": [
       "<Figure size 640x480 with 1 Axes>"
      ]
     },
     "metadata": {},
     "output_type": "display_data"
    }
   ],
   "source": [
    "import matplotlib.pyplot as plt\n",
    "plt.hist(probs_t_less_than_45_minutes, bins=100)\n",
    "plt.show()"
   ]
  },
  {
   "cell_type": "markdown",
   "metadata": {},
   "source": [
    "Note that I can not report an accuracy for the probabilities themselves, since we don't have a 'ground truth' probability nor distribution for the test set. We only have the actual trip durationvalues. What I could is assume that the features of the test set are evenly distributed across the feature domain and calculate the overall probability of the travel being less than 45 mins:"
   ]
  },
  {
   "cell_type": "code",
   "execution_count": 25,
   "metadata": {},
   "outputs": [
    {
     "data": {
      "text/plain": [
       "tensor(0.9954)"
      ]
     },
     "execution_count": 25,
     "metadata": {},
     "output_type": "execute_result"
    }
   ],
   "source": [
    "prob_less_than_45_test_set = (y_test < t_45_minutes_scaled).sum()/len(y_test)\n",
    "prob_less_than_45_test_set"
   ]
  },
  {
   "cell_type": "markdown",
   "metadata": {},
   "source": [
    "This is very close to 1, consistent with what we see in the histogram for the model probabilities. This means the model seems to be accurate ( to be honest, 45 min was just a very large number given the data and transformation that we got, so we expected this probability to be 1 from the beginning and this was not a very elaborate analysis.)"
   ]
  },
  {
   "cell_type": "markdown",
   "metadata": {},
   "source": []
  }
 ],
 "metadata": {
  "kernelspec": {
   "display_name": "ml-1",
   "language": "python",
   "name": "python3"
  },
  "language_info": {
   "codemirror_mode": {
    "name": "ipython",
    "version": 3
   },
   "file_extension": ".py",
   "mimetype": "text/x-python",
   "name": "python",
   "nbconvert_exporter": "python",
   "pygments_lexer": "ipython3",
   "version": "3.10.13"
  }
 },
 "nbformat": 4,
 "nbformat_minor": 2
}
